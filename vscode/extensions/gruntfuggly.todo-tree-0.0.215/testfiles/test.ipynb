{
 "cells": [
  {
   "cell_type": "code",
   "execution_count": null,
   "metadata": {},
   "outputs": [],
   "source": [
    "# FIXME please!"
   ]
  },
  {
   "cell_type": "markdown",
   "metadata": {},
   "source": []
  },
  {
   "cell_type": "markdown",
   "metadata": {},
   "source": [
    "Some markdown # HELP tag in python comment in jupyter notebook !"
   ]
  },
  {
   "cell_type": "code",
   "execution_count": null,
   "metadata": {},
   "outputs": [],
   "source": []
  }
 ],
 "metadata": {
  "interpreter": {
   "hash": "8c213064a5e6d0c923d7a177f02e2c9bf407a06ccdb685cc176520478ec1133f"
  },
  "kernelspec": {
   "display_name": "Python 3.9.5 64-bit ('udacity-deep-learning': conda)",
   "name": "python3"
  },
  "language_info": {
   "name": "python",
   "version": "3.9.5"
  },
  "orig_nbformat": 4
 },
 "nbformat": 4,
 "nbformat_minor": 2
}
